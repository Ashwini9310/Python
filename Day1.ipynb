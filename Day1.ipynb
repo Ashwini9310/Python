{
  "nbformat": 4,
  "nbformat_minor": 0,
  "metadata": {
    "colab": {
      "name": "Untitled0.ipynb",
      "provenance": [],
      "collapsed_sections": []
    },
    "kernelspec": {
      "name": "python3",
      "display_name": "Python 3"
    },
    "language_info": {
      "name": "python"
    }
  },
  "cells": [
    {
      "cell_type": "code",
      "metadata": {
        "colab": {
          "base_uri": "https://localhost:8080/"
        },
        "id": "RlUBoNn7nxGq",
        "outputId": "8690b3d6-81d2-456e-dd78-2cda21a407b4"
      },
      "source": [
        "a=2\n",
        "b=5\n",
        "print(a+b)\n",
        "print(a*b)\n",
        "print(a-b)\n",
        "print(a/b)\n",
        "print(a%b)\n",
        "print(a**b)"
      ],
      "execution_count": null,
      "outputs": [
        {
          "output_type": "stream",
          "text": [
            "7\n",
            "10\n",
            "-3\n",
            "0.4\n",
            "2\n",
            "32\n"
          ],
          "name": "stdout"
        }
      ]
    },
    {
      "cell_type": "code",
      "metadata": {
        "colab": {
          "base_uri": "https://localhost:8080/"
        },
        "id": "AWkAAUbKqTLg",
        "outputId": "847a156d-1c87-475e-a282-81aaed704a92"
      },
      "source": [
        "a = input(\"Enter the string:\")\n",
        "b = input(\"Enter the number:\")\n",
        "c = str(a) + \" \" + b\n",
        "print(c)"
      ],
      "execution_count": null,
      "outputs": [
        {
          "output_type": "stream",
          "text": [
            "Enter the string:ABCD\n",
            "Enter the number:4\n",
            "ABCD 4\n"
          ],
          "name": "stdout"
        }
      ]
    },
    {
      "cell_type": "code",
      "metadata": {
        "colab": {
          "base_uri": "https://localhost:8080/"
        },
        "id": "86l-Is1KrJ5f",
        "outputId": "e9c4992d-1c9b-4766-8bdd-4ae1bc324baf"
      },
      "source": [
        "a =30\n",
        "b= 56\n",
        "d=a*b\n",
        "print(type(d))\n",
        "print(d)"
      ],
      "execution_count": null,
      "outputs": [
        {
          "output_type": "stream",
          "text": [
            "<class 'int'>\n",
            "1680\n"
          ],
          "name": "stdout"
        }
      ]
    },
    {
      "cell_type": "code",
      "metadata": {
        "colab": {
          "base_uri": "https://localhost:8080/"
        },
        "id": "GUT0l0TJsFsE",
        "outputId": "aed4f9b9-7eb1-4e08-d3bc-e9d8664153e4"
      },
      "source": [
        "a = input(\"Enter the first string:\")\n",
        "b = input(\"Enter the second string:\")\n",
        "c = a + b\n",
        "d = a,b\n",
        "print(c)\n",
        "print(d)"
      ],
      "execution_count": null,
      "outputs": [
        {
          "output_type": "stream",
          "text": [
            "Enter the first string:abcd\n",
            "Enter the second string:xyz\n",
            "abcdxyz\n",
            "('abcd', 'xyz')\n"
          ],
          "name": "stdout"
        }
      ]
    },
    {
      "cell_type": "code",
      "metadata": {
        "colab": {
          "base_uri": "https://localhost:8080/"
        },
        "id": "-dr_FS24yOSJ",
        "outputId": "72a03bfe-060f-41c7-f402-2bc81fb48982"
      },
      "source": [
        "a = input(\"Enter the string:\")\n",
        "b = input(\"Enter the integer:\")\n",
        "d =a + \" \" + str(b)\n",
        "print(d)"
      ],
      "execution_count": null,
      "outputs": [
        {
          "output_type": "stream",
          "text": [
            "Enter the string:pqrs\n",
            "Enter the integer:9\n",
            "pqrs 9\n"
          ],
          "name": "stdout"
        }
      ]
    },
    {
      "cell_type": "code",
      "metadata": {
        "colab": {
          "base_uri": "https://localhost:8080/"
        },
        "id": "JavPiTifyZXp",
        "outputId": "29a347b1-b511-4e6a-a46c-2c1599d1d98c"
      },
      "source": [
        "x=float(input(\"Enter number for x: \"))\n",
        "y=float(input(\"Enter number for y: \"))\n",
        "if x==y: \n",
        "  print(\"x and y are equal\")\n",
        "  if y!= 0:\n",
        "    print(\"thus x/y is\",x/y)\n",
        "elif x<y: \n",
        "  print(\"x is smaller\")\n",
        "else:\n",
        "  print(\"y is smaller\")\n",
        "print(\"thanks\")"
      ],
      "execution_count": null,
      "outputs": [
        {
          "output_type": "stream",
          "text": [
            "Enter number for x: 10\n",
            "Enter number for y: 10\n",
            "x and y are equal\n",
            "thus x/y is 1.0\n",
            "thanks\n"
          ],
          "name": "stdout"
        }
      ]
    },
    {
      "cell_type": "code",
      "metadata": {
        "colab": {
          "base_uri": "https://localhost:8080/"
        },
        "id": "8tb5a0Qozw3x",
        "outputId": "ebb2d06b-469a-423c-942e-774518b1d4e4"
      },
      "source": [
        "x=str(input(\"Enter string for x: \"))\n",
        "y=str(input(\"Enter string for y: \"))\n",
        "if x==y: \n",
        "  print(\"x and y are equal\")\n",
        "elif x<y: \n",
        "  print(x+y)\n",
        "else:\n",
        "  n=input(\"Enter n value\")\n",
        "  print(x+y)*n\n",
        "print(\"thanks\")   "
      ],
      "execution_count": null,
      "outputs": [
        {
          "output_type": "stream",
          "text": [
            "Enter string for x: abc\n",
            "Enter string for y: xyz\n",
            "abcxyz\n",
            "thanks\n"
          ],
          "name": "stdout"
        }
      ]
    },
    {
      "cell_type": "code",
      "metadata": {
        "colab": {
          "base_uri": "https://localhost:8080/"
        },
        "id": "NSrtapii92LD",
        "outputId": "4e51e116-f212-4792-c7b8-28183f7a7710"
      },
      "source": [
        "pi = 3.14159\n",
        "diameter = 3\n",
        "radius = diameter/2\n",
        "print(radius)\n",
        "area= pi * (radius**2)\n",
        "print(area)"
      ],
      "execution_count": null,
      "outputs": [
        {
          "output_type": "stream",
          "text": [
            "1.5\n",
            "7.0685775\n"
          ],
          "name": "stdout"
        }
      ]
    },
    {
      "cell_type": "code",
      "metadata": {
        "colab": {
          "base_uri": "https://localhost:8080/"
        },
        "id": "4NN-kVGg-6oQ",
        "outputId": "77830503-7da6-471a-a140-4491687d0b06"
      },
      "source": [
        "a = 20\n",
        "b = 30\n",
        "print(\"Before Swap:\",a,b)\n",
        "c = a\n",
        "a = b\n",
        "b = c\n",
        "print(\"After swap:\",a,b)"
      ],
      "execution_count": null,
      "outputs": [
        {
          "output_type": "stream",
          "text": [
            "Before Swap: 20 30\n",
            "After swap: 30 20\n"
          ],
          "name": "stdout"
        }
      ]
    },
    {
      "cell_type": "code",
      "metadata": {
        "colab": {
          "base_uri": "https://localhost:8080/"
        },
        "id": "Ni5l0P3HAflO",
        "outputId": "93b02186-8218-41ab-90ed-6d80ecfe27fa"
      },
      "source": [
        "a = 5\n",
        "b = 3\n",
        "c = a - b\n",
        "d = 2\n",
        "e = c//d\n",
        "print(e)"
      ],
      "execution_count": null,
      "outputs": [
        {
          "output_type": "stream",
          "text": [
            "1\n"
          ],
          "name": "stdout"
        }
      ]
    },
    {
      "cell_type": "code",
      "metadata": {
        "colab": {
          "base_uri": "https://localhost:8080/"
        },
        "id": "IzW8b3y9BIkO",
        "outputId": "02615648-d249-4c66-9f33-824636e6c415"
      },
      "source": [
        "8 - 3 * 2 - 1 + 1\n",
        "a = 8\n",
        "b = 3\n",
        "c = 2\n",
        "d = b*c\n",
        "e = 1\n",
        "f = d+e\n",
        "g = f+e\n",
        "h = g-a\n",
        "print(h)"
      ],
      "execution_count": null,
      "outputs": [
        {
          "output_type": "stream",
          "text": [
            "0\n"
          ],
          "name": "stdout"
        }
      ]
    },
    {
      "cell_type": "code",
      "metadata": {
        "colab": {
          "base_uri": "https://localhost:8080/"
        },
        "id": "drH8JP3nCD9w",
        "outputId": "7e99c2f3-19bf-490c-8c08-1040164c1a9b"
      },
      "source": [
        "a_candies = 121\n",
        "b_candies = 77\n",
        "c_candies = 109\n",
        "candies = (a_candies+b_candies+c_candies)%3\n",
        "print(candies)"
      ],
      "execution_count": null,
      "outputs": [
        {
          "output_type": "stream",
          "text": [
            "1\n"
          ],
          "name": "stdout"
        }
      ]
    },
    {
      "cell_type": "code",
      "metadata": {
        "id": "sWUZYTE5F8Ql"
      },
      "source": [
        ""
      ],
      "execution_count": null,
      "outputs": []
    },
    {
      "cell_type": "code",
      "metadata": {
        "colab": {
          "base_uri": "https://localhost:8080/"
        },
        "id": "HkgNMpukDcgs",
        "outputId": "f2d35ad7-5347-4dfe-a9af-85d5308dea80"
      },
      "source": [
        "n=input(\"********\\n    😃    \\n********\\n Go left or right \")\n",
        "if n==\"right\" or n==\"Right\":\n",
        "  print(\"You have found a path 😃\")\n",
        "else:\n",
        "  print(\"Game ended\")"
      ],
      "execution_count": null,
      "outputs": [
        {
          "output_type": "stream",
          "text": [
            "********\n",
            "    😃    \n",
            "********\n",
            " Go left or right left\n",
            "Game ended\n"
          ],
          "name": "stdout"
        }
      ]
    }
  ]
}