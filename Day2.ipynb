{
  "nbformat": 4,
  "nbformat_minor": 0,
  "metadata": {
    "colab": {
      "name": "Practice 2.ipynb",
      "provenance": [],
      "collapsed_sections": []
    },
    "kernelspec": {
      "name": "python3",
      "display_name": "Python 3"
    },
    "language_info": {
      "name": "python"
    }
  },
  "cells": [
    {
      "cell_type": "markdown",
      "metadata": {
        "id": "foPjwFSOqNOL"
      },
      "source": [
        "### Practice assignment 2 \n",
        "---\n",
        "For each of the five strings below, predict what `len()` would return when passed that string. Use the variable `length` to record your answer, then run the cell to check whether you were right. "
      ]
    },
    {
      "cell_type": "code",
      "metadata": {
        "id": "545NnkyppnwQ",
        "colab": {
          "base_uri": "https://localhost:8080/"
        },
        "outputId": "2cea81f9-1eb8-4fcb-aa40-9e590566a6cf"
      },
      "source": [
        "a = \"\"\n",
        "length = 0 #enter value here\n",
        "if len(a)==length:\n",
        "  print(\"correct answer \")"
      ],
      "execution_count": 2,
      "outputs": [
        {
          "output_type": "stream",
          "text": [
            "correct answer \n"
          ],
          "name": "stdout"
        }
      ]
    },
    {
      "cell_type": "code",
      "metadata": {
        "id": "IYCabKHnrHKk",
        "colab": {
          "base_uri": "https://localhost:8080/"
        },
        "outputId": "76126d2d-48d6-44c1-ce9e-bed12f3d700f"
      },
      "source": [
        "c = 'it\\'s ok'\n",
        "length = 7#enter value here\n",
        "if len(c)==length:\n",
        "  print(\"Correct answer\")"
      ],
      "execution_count": 3,
      "outputs": [
        {
          "output_type": "stream",
          "text": [
            "Correct answer\n"
          ],
          "name": "stdout"
        }
      ]
    },
    {
      "cell_type": "code",
      "metadata": {
        "id": "Ei5asuAirRvG",
        "colab": {
          "base_uri": "https://localhost:8080/"
        },
        "outputId": "979ad3cb-7f3d-4b6d-ffe1-32f3520c6d00"
      },
      "source": [
        "d = \"\"\"hey\"\"\"\n",
        "length = 3 #enter value here \n",
        "if len(d)==length:\n",
        "  print(\"correct answer\")"
      ],
      "execution_count": 4,
      "outputs": [
        {
          "output_type": "stream",
          "text": [
            "correct answer\n"
          ],
          "name": "stdout"
        }
      ]
    },
    {
      "cell_type": "code",
      "metadata": {
        "id": "49edi-GArc_q",
        "colab": {
          "base_uri": "https://localhost:8080/"
        },
        "outputId": "4163ad98-c675-46ce-94fe-a355f3516094"
      },
      "source": [
        "e = '\\n'\n",
        "length = 1 #enter value here\n",
        "if len(e)==length:\n",
        "  print(\"Correct answer\")"
      ],
      "execution_count": 5,
      "outputs": [
        {
          "output_type": "stream",
          "text": [
            "Correct answer\n"
          ],
          "name": "stdout"
        }
      ]
    },
    {
      "cell_type": "markdown",
      "metadata": {
        "id": "HkUt9_o4xTHu"
      },
      "source": [
        "# Simple String Problems\n",
        "1. Take a string `s`, change the first character of it to `y` and then print it\n",
        "\n"
      ]
    },
    {
      "cell_type": "code",
      "metadata": {
        "id": "IkyHvijOxjvY",
        "colab": {
          "base_uri": "https://localhost:8080/"
        },
        "outputId": "8b107d1b-a3b4-4573-89fd-cafae2384dfc"
      },
      "source": [
        "s = 'abcaef'\n",
        "#enter code here\n",
        "s = 'y'+s[1:]#s.replace('a','y')\n",
        "print(s)"
      ],
      "execution_count": 6,
      "outputs": [
        {
          "output_type": "stream",
          "text": [
            "ybcaef\n"
          ],
          "name": "stdout"
        }
      ]
    },
    {
      "cell_type": "markdown",
      "metadata": {
        "id": "CJLFPsIfyKnx"
      },
      "source": [
        "2. Take the string `s`. Asnwer the set of values to go with it: \n",
        "\n",
        "\n",
        "> Print all values\n",
        "\n"
      ]
    },
    {
      "cell_type": "code",
      "metadata": {
        "id": "2kEp-_e-yKWn",
        "colab": {
          "base_uri": "https://localhost:8080/"
        },
        "outputId": "30213111-4126-458d-d8e7-fc95aabb8c98"
      },
      "source": [
        "s = 'abcdef'\n",
        "#find string corresponding to s[1:4]\n",
        "print(s[1:14])\n",
        "#find string corresponding to s[2:7:2]\n",
        "print(s[2:7:2])\n",
        "#print the full string\n",
        "print(s[:])\n",
        "#Invert the string\n",
        "print(s[::-1])\n",
        "#concat the inverted and normal string, and print it\n",
        "print(s+s[::-1])"
      ],
      "execution_count": 7,
      "outputs": [
        {
          "output_type": "stream",
          "text": [
            "bcdef\n",
            "ce\n",
            "abcdef\n",
            "fedcba\n",
            "abcdeffedcba\n"
          ],
          "name": "stdout"
        }
      ]
    },
    {
      "cell_type": "markdown",
      "metadata": {
        "id": "d2gcH0WIzAco"
      },
      "source": [
        "3. Modify the below code without using the `len()` function to get the same result"
      ]
    },
    {
      "cell_type": "code",
      "metadata": {
        "id": "2ytRTaE7zHtJ",
        "colab": {
          "base_uri": "https://localhost:8080/"
        },
        "outputId": "57a90abf-b50f-43ca-dcca-05acec38ee12"
      },
      "source": [
        "s = 'heijklmo'\n",
        "for char in s: #change this line\n",
        "  if char == 'h' or char == 'm': #change this line\n",
        "    print(\"Letter h or m is present\")\n",
        "    break"
      ],
      "execution_count": 8,
      "outputs": [
        {
          "output_type": "stream",
          "text": [
            "Letter h or m is present\n"
          ],
          "name": "stdout"
        }
      ]
    },
    {
      "cell_type": "markdown",
      "metadata": {
        "id": "b_LQVJ8Pz6Fs"
      },
      "source": [
        "4. Modify the below code by switching the `while` loop with a `for` loop"
      ]
    },
    {
      "cell_type": "code",
      "metadata": {
        "id": "ix-gZ_rDz5pM",
        "colab": {
          "base_uri": "https://localhost:8080/"
        },
        "outputId": "1a9f5f57-b8a5-4239-af4c-28beba5bc5e1"
      },
      "source": [
        "a = \"aefhilmnorsxAEFHILMNORSX\"\n",
        "word = input(\"I will cheer for you, enter a word\")\n",
        "times = int(input(\"Enthusiasm leve(1-10\"))\n",
        "for char in word:\n",
        "  if char in a:\n",
        "    print(\"Give me an \"+char+ \" ! \"+char)\n",
        "  else: \n",
        "    print(\"give me a \"+char+ \" ! \"+char)\n",
        "print(\"What does that spell? \")\n",
        "for i in range(times):\n",
        "  print(word+ \" !!!\")"
      ],
      "execution_count": 9,
      "outputs": [
        {
          "output_type": "stream",
          "text": [
            "I will cheer for you, enter a wordIndia\n",
            "Enthusiasm leve(1-105\n",
            "Give me an I ! I\n",
            "Give me an n ! n\n",
            "give me a d ! d\n",
            "Give me an i ! i\n",
            "Give me an a ! a\n",
            "What does that spell? \n",
            "India !!!\n",
            "India !!!\n",
            "India !!!\n",
            "India !!!\n",
            "India !!!\n"
          ],
          "name": "stdout"
        }
      ]
    },
    {
      "cell_type": "markdown",
      "metadata": {
        "id": "k4cOXjHj0o_B"
      },
      "source": [
        "# Guess check Method for finding cube root\n",
        "\n",
        "Guess check method is coded by starting with a guess `g` and the given cube numer `c` whose cube root we are trying to estimate. You can either give `g` a start value or use `for` loops. This is the logic: \n",
        "\n",
        "`for g in range(abs(cube)+1):`\n",
        "\n",
        "\n",
        "> `if g**3 >=cube:` -> then break \n",
        "\n",
        "> if `g**3 !=cube` then it's not a perfect cube. If `cube < 0` then negate `g` ,print the cube root of `cube`\n",
        "\n",
        "\n",
        "\n"
      ]
    },
    {
      "cell_type": "code",
      "metadata": {
        "id": "VXcvAZd82PJs"
      },
      "source": [
        "cube = 27\n",
        "for g in range(abs(cube)+1):\n",
        "  #write your code here"
      ],
      "execution_count": null,
      "outputs": []
    },
    {
      "cell_type": "markdown",
      "metadata": {
        "id": "5JZg_AXE2iUs"
      },
      "source": [
        "# Approximate Solution \n",
        "\n",
        "Find the cube root of a number `cube` by approximating to the value, starting with a guess value `g` of your choice. We define approximate method by defining a neighborhood of acceptance `epsilon` and the learning rate `increment`. We start with a guess `g` and for each iteration, we check if `|g**3 - cube| >= epsilon`and then update the guess variable as `g = g+increment`. If at the end of all iterations, `|g**3 - cube| > epsilon` then print that it is not a perfect cube, `else` print that it is a ferfect cube. \n",
        " \n",
        "\n",
        "1. Initialise variable `cube = 27` and `epsilon = 0.1` for the boundry\n",
        "2. Initialise `g = 0` and `increment = 0.01`.\n",
        "3. Create counter `num_g` to keep track of number of iterations. \n",
        "4. Give your own values for `cube`,`g`,`increment` and `epsilon` to test the boundry and get comfortable with overshooting and undershooting your optimal answer. "
      ]
    },
    {
      "cell_type": "code",
      "metadata": {
        "id": "SMl9xGiL2_n2"
      },
      "source": [
        "#write your code here "
      ],
      "execution_count": null,
      "outputs": []
    },
    {
      "cell_type": "markdown",
      "metadata": {
        "id": "afG47JNS4iAw"
      },
      "source": [
        "# Bisection method \n",
        "In this method, the gap between `g` and `cube` keeps on diving in 2 until the best solution is reached. Try different values of `low`,`cube` and `epsilon` to get a better understanding of how expensive computation can be."
      ]
    },
    {
      "cell_type": "code",
      "metadata": {
        "id": "CVuQmTb86SI0",
        "colab": {
          "base_uri": "https://localhost:8080/"
        },
        "outputId": "9ee3f845-8ed7-4048-ddc2-b7f672deea44"
      },
      "source": [
        "cube = 27\n",
        "epsilon = 0.01\n",
        "num_g = 0\n",
        "low = 0\n",
        "high = cube\n",
        "g = (high+low)/2\n",
        "while abs(g**3 - cube) >= epsilon:\n",
        "  if g**3 < cube:\n",
        "    low = g\n",
        "  else:\n",
        "    high = g\n",
        "  g = (high+low)/2\n",
        "  num_g+=1\n",
        "print('num_guess is',num_g)\n",
        "print(g,'is close to cube root of',cube)"
      ],
      "execution_count": 20,
      "outputs": [
        {
          "output_type": "stream",
          "text": [
            "num_guess is 14\n",
            "3.000091552734375 is close to cube root of 27\n"
          ],
          "name": "stdout"
        }
      ]
    },
    {
      "cell_type": "markdown",
      "metadata": {
        "id": "5fYbZ4Ca6TIz"
      },
      "source": [
        "Now for the above code, make these modification: \n",
        "1. modify it to work with negetive cubes\n",
        "2. modify it to work with cubes between 0 and 1."
      ]
    },
    {
      "cell_type": "code",
      "metadata": {
        "id": "2ypwntHt6jRs",
        "colab": {
          "base_uri": "https://localhost:8080/"
        },
        "outputId": "94adbf27-8b7a-4927-93bb-2586e7cc9136"
      },
      "source": [
        "#enter your code here\n",
        "cube = 0.5\n",
        "epsilon = 0.01\n",
        "num_g = 0\n",
        "low = cube\n",
        "high = 1\n",
        "g = (high+low)/2\n",
        "while abs(g**3 - cube) >= epsilon:\n",
        "  if g**3 < cube:\n",
        "    low = g\n",
        "  else:\n",
        "    high = g\n",
        "  g = (high+low)/2\n",
        "  num_g+=1\n",
        "print('num_guess is',num_g)\n",
        "print(g,'is close to cube root of',cube)"
      ],
      "execution_count": 21,
      "outputs": [
        {
          "output_type": "stream",
          "text": [
            "num_guess is 4\n",
            "0.796875 is close to cube root of 0.5\n"
          ],
          "name": "stdout"
        }
      ]
    },
    {
      "cell_type": "markdown",
      "metadata": {
        "id": "xGTjF4NLr9_2"
      },
      "source": [
        "# Try for yourself \n",
        " Given a string, it should return whether or not that string represents a valid pin code. For our purposes, a valid pin code is any string consisting of exactly 6 digits.\n",
        "\n",
        "HINT: `str` has a method that will be useful here. Use `help(str)` to review a list of string methods. There is a method called `isdigit` that checks for the condition of having all digits only."
      ]
    },
    {
      "cell_type": "code",
      "metadata": {
        "id": "AMuHSECvsJQn",
        "colab": {
          "base_uri": "https://localhost:8080/"
        },
        "outputId": "cdd514a7-a6ac-43b4-e59b-0088e3036d5b"
      },
      "source": [
        "#do not change this code. Write your code only after pass\n",
        "def is_valid_pin(pin_code):\n",
        "    \"\"\"Returns whether the input string is a valid (6 digit) pin code\n",
        "    \"\"\"\n",
        "    pass\n",
        "    return len(pin_code)==6 and pin_code.isdigit() #enter your code here \n",
        "#do not change the code below\n",
        "z = is_valid_pin('560001')\n",
        "k= is_valid_pin('5600af')\n",
        "if(z==True and k == False):\n",
        "  print(\"Your answer is correct\")\n",
        "else:\n",
        "  print(\"Incorrect logic. Check your return statement. You may have missed checking for digits. use help(srt)\")\n"
      ],
      "execution_count": 22,
      "outputs": [
        {
          "output_type": "stream",
          "text": [
            "Your answer is correct\n"
          ],
          "name": "stdout"
        }
      ]
    },
    {
      "cell_type": "code",
      "metadata": {
        "id": "xOJarPAI7Bxm"
      },
      "source": [
        "# you can try combinations of the above code, or any code for your practice. "
      ],
      "execution_count": null,
      "outputs": []
    }
  ]
}